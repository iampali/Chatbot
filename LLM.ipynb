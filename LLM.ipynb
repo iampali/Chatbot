{
  "nbformat": 4,
  "nbformat_minor": 0,
  "metadata": {
    "colab": {
      "provenance": [],
      "gpuType": "T4"
    },
    "kernelspec": {
      "name": "python3",
      "display_name": "Python 3"
    },
    "language_info": {
      "name": "python"
    },
    "accelerator": "GPU",
    "widgets": {
      "application/vnd.jupyter.widget-state+json": {
        "2e97808f4d2249719f4d2181977ac560": {
          "model_module": "@jupyter-widgets/controls",
          "model_name": "HBoxModel",
          "model_module_version": "1.5.0",
          "state": {
            "_dom_classes": [],
            "_model_module": "@jupyter-widgets/controls",
            "_model_module_version": "1.5.0",
            "_model_name": "HBoxModel",
            "_view_count": null,
            "_view_module": "@jupyter-widgets/controls",
            "_view_module_version": "1.5.0",
            "_view_name": "HBoxView",
            "box_style": "",
            "children": [
              "IPY_MODEL_b32e3145d442484daa546f1061a0544f",
              "IPY_MODEL_e5803a773855451cab2ac9013202b9ea",
              "IPY_MODEL_05d8eef718044ef0bfba1962c3ffbb15"
            ],
            "layout": "IPY_MODEL_a84c88c01de042fcae18496c69842e9e"
          }
        },
        "b32e3145d442484daa546f1061a0544f": {
          "model_module": "@jupyter-widgets/controls",
          "model_name": "HTMLModel",
          "model_module_version": "1.5.0",
          "state": {
            "_dom_classes": [],
            "_model_module": "@jupyter-widgets/controls",
            "_model_module_version": "1.5.0",
            "_model_name": "HTMLModel",
            "_view_count": null,
            "_view_module": "@jupyter-widgets/controls",
            "_view_module_version": "1.5.0",
            "_view_name": "HTMLView",
            "description": "",
            "description_tooltip": null,
            "layout": "IPY_MODEL_0f71e606a1e74da0b5af7ed322e0cbca",
            "placeholder": "​",
            "style": "IPY_MODEL_f8a364e6a2a7417395f5cd611970182b",
            "value": "Loading checkpoint shards: 100%"
          }
        },
        "e5803a773855451cab2ac9013202b9ea": {
          "model_module": "@jupyter-widgets/controls",
          "model_name": "FloatProgressModel",
          "model_module_version": "1.5.0",
          "state": {
            "_dom_classes": [],
            "_model_module": "@jupyter-widgets/controls",
            "_model_module_version": "1.5.0",
            "_model_name": "FloatProgressModel",
            "_view_count": null,
            "_view_module": "@jupyter-widgets/controls",
            "_view_module_version": "1.5.0",
            "_view_name": "ProgressView",
            "bar_style": "success",
            "description": "",
            "description_tooltip": null,
            "layout": "IPY_MODEL_83c37f55ee384c4fb9493defc27ff403",
            "max": 2,
            "min": 0,
            "orientation": "horizontal",
            "style": "IPY_MODEL_69dd34f2ab4c47278f9f6b555de0ad92",
            "value": 2
          }
        },
        "05d8eef718044ef0bfba1962c3ffbb15": {
          "model_module": "@jupyter-widgets/controls",
          "model_name": "HTMLModel",
          "model_module_version": "1.5.0",
          "state": {
            "_dom_classes": [],
            "_model_module": "@jupyter-widgets/controls",
            "_model_module_version": "1.5.0",
            "_model_name": "HTMLModel",
            "_view_count": null,
            "_view_module": "@jupyter-widgets/controls",
            "_view_module_version": "1.5.0",
            "_view_name": "HTMLView",
            "description": "",
            "description_tooltip": null,
            "layout": "IPY_MODEL_c400c85dafaa47a0bae784143ecd5e1d",
            "placeholder": "​",
            "style": "IPY_MODEL_1e66ee3c861c41698e531a9dcaa13601",
            "value": " 2/2 [01:03&lt;00:00, 29.03s/it]"
          }
        },
        "a84c88c01de042fcae18496c69842e9e": {
          "model_module": "@jupyter-widgets/base",
          "model_name": "LayoutModel",
          "model_module_version": "1.2.0",
          "state": {
            "_model_module": "@jupyter-widgets/base",
            "_model_module_version": "1.2.0",
            "_model_name": "LayoutModel",
            "_view_count": null,
            "_view_module": "@jupyter-widgets/base",
            "_view_module_version": "1.2.0",
            "_view_name": "LayoutView",
            "align_content": null,
            "align_items": null,
            "align_self": null,
            "border": null,
            "bottom": null,
            "display": null,
            "flex": null,
            "flex_flow": null,
            "grid_area": null,
            "grid_auto_columns": null,
            "grid_auto_flow": null,
            "grid_auto_rows": null,
            "grid_column": null,
            "grid_gap": null,
            "grid_row": null,
            "grid_template_areas": null,
            "grid_template_columns": null,
            "grid_template_rows": null,
            "height": null,
            "justify_content": null,
            "justify_items": null,
            "left": null,
            "margin": null,
            "max_height": null,
            "max_width": null,
            "min_height": null,
            "min_width": null,
            "object_fit": null,
            "object_position": null,
            "order": null,
            "overflow": null,
            "overflow_x": null,
            "overflow_y": null,
            "padding": null,
            "right": null,
            "top": null,
            "visibility": null,
            "width": null
          }
        },
        "0f71e606a1e74da0b5af7ed322e0cbca": {
          "model_module": "@jupyter-widgets/base",
          "model_name": "LayoutModel",
          "model_module_version": "1.2.0",
          "state": {
            "_model_module": "@jupyter-widgets/base",
            "_model_module_version": "1.2.0",
            "_model_name": "LayoutModel",
            "_view_count": null,
            "_view_module": "@jupyter-widgets/base",
            "_view_module_version": "1.2.0",
            "_view_name": "LayoutView",
            "align_content": null,
            "align_items": null,
            "align_self": null,
            "border": null,
            "bottom": null,
            "display": null,
            "flex": null,
            "flex_flow": null,
            "grid_area": null,
            "grid_auto_columns": null,
            "grid_auto_flow": null,
            "grid_auto_rows": null,
            "grid_column": null,
            "grid_gap": null,
            "grid_row": null,
            "grid_template_areas": null,
            "grid_template_columns": null,
            "grid_template_rows": null,
            "height": null,
            "justify_content": null,
            "justify_items": null,
            "left": null,
            "margin": null,
            "max_height": null,
            "max_width": null,
            "min_height": null,
            "min_width": null,
            "object_fit": null,
            "object_position": null,
            "order": null,
            "overflow": null,
            "overflow_x": null,
            "overflow_y": null,
            "padding": null,
            "right": null,
            "top": null,
            "visibility": null,
            "width": null
          }
        },
        "f8a364e6a2a7417395f5cd611970182b": {
          "model_module": "@jupyter-widgets/controls",
          "model_name": "DescriptionStyleModel",
          "model_module_version": "1.5.0",
          "state": {
            "_model_module": "@jupyter-widgets/controls",
            "_model_module_version": "1.5.0",
            "_model_name": "DescriptionStyleModel",
            "_view_count": null,
            "_view_module": "@jupyter-widgets/base",
            "_view_module_version": "1.2.0",
            "_view_name": "StyleView",
            "description_width": ""
          }
        },
        "83c37f55ee384c4fb9493defc27ff403": {
          "model_module": "@jupyter-widgets/base",
          "model_name": "LayoutModel",
          "model_module_version": "1.2.0",
          "state": {
            "_model_module": "@jupyter-widgets/base",
            "_model_module_version": "1.2.0",
            "_model_name": "LayoutModel",
            "_view_count": null,
            "_view_module": "@jupyter-widgets/base",
            "_view_module_version": "1.2.0",
            "_view_name": "LayoutView",
            "align_content": null,
            "align_items": null,
            "align_self": null,
            "border": null,
            "bottom": null,
            "display": null,
            "flex": null,
            "flex_flow": null,
            "grid_area": null,
            "grid_auto_columns": null,
            "grid_auto_flow": null,
            "grid_auto_rows": null,
            "grid_column": null,
            "grid_gap": null,
            "grid_row": null,
            "grid_template_areas": null,
            "grid_template_columns": null,
            "grid_template_rows": null,
            "height": null,
            "justify_content": null,
            "justify_items": null,
            "left": null,
            "margin": null,
            "max_height": null,
            "max_width": null,
            "min_height": null,
            "min_width": null,
            "object_fit": null,
            "object_position": null,
            "order": null,
            "overflow": null,
            "overflow_x": null,
            "overflow_y": null,
            "padding": null,
            "right": null,
            "top": null,
            "visibility": null,
            "width": null
          }
        },
        "69dd34f2ab4c47278f9f6b555de0ad92": {
          "model_module": "@jupyter-widgets/controls",
          "model_name": "ProgressStyleModel",
          "model_module_version": "1.5.0",
          "state": {
            "_model_module": "@jupyter-widgets/controls",
            "_model_module_version": "1.5.0",
            "_model_name": "ProgressStyleModel",
            "_view_count": null,
            "_view_module": "@jupyter-widgets/base",
            "_view_module_version": "1.2.0",
            "_view_name": "StyleView",
            "bar_color": null,
            "description_width": ""
          }
        },
        "c400c85dafaa47a0bae784143ecd5e1d": {
          "model_module": "@jupyter-widgets/base",
          "model_name": "LayoutModel",
          "model_module_version": "1.2.0",
          "state": {
            "_model_module": "@jupyter-widgets/base",
            "_model_module_version": "1.2.0",
            "_model_name": "LayoutModel",
            "_view_count": null,
            "_view_module": "@jupyter-widgets/base",
            "_view_module_version": "1.2.0",
            "_view_name": "LayoutView",
            "align_content": null,
            "align_items": null,
            "align_self": null,
            "border": null,
            "bottom": null,
            "display": null,
            "flex": null,
            "flex_flow": null,
            "grid_area": null,
            "grid_auto_columns": null,
            "grid_auto_flow": null,
            "grid_auto_rows": null,
            "grid_column": null,
            "grid_gap": null,
            "grid_row": null,
            "grid_template_areas": null,
            "grid_template_columns": null,
            "grid_template_rows": null,
            "height": null,
            "justify_content": null,
            "justify_items": null,
            "left": null,
            "margin": null,
            "max_height": null,
            "max_width": null,
            "min_height": null,
            "min_width": null,
            "object_fit": null,
            "object_position": null,
            "order": null,
            "overflow": null,
            "overflow_x": null,
            "overflow_y": null,
            "padding": null,
            "right": null,
            "top": null,
            "visibility": null,
            "width": null
          }
        },
        "1e66ee3c861c41698e531a9dcaa13601": {
          "model_module": "@jupyter-widgets/controls",
          "model_name": "DescriptionStyleModel",
          "model_module_version": "1.5.0",
          "state": {
            "_model_module": "@jupyter-widgets/controls",
            "_model_module_version": "1.5.0",
            "_model_name": "DescriptionStyleModel",
            "_view_count": null,
            "_view_module": "@jupyter-widgets/base",
            "_view_module_version": "1.2.0",
            "_view_name": "StyleView",
            "description_width": ""
          }
        },
        "53d7b01d28634bf49bbb8a5a16277684": {
          "model_module": "@jupyter-widgets/controls",
          "model_name": "HBoxModel",
          "model_module_version": "1.5.0",
          "state": {
            "_dom_classes": [],
            "_model_module": "@jupyter-widgets/controls",
            "_model_module_version": "1.5.0",
            "_model_name": "HBoxModel",
            "_view_count": null,
            "_view_module": "@jupyter-widgets/controls",
            "_view_module_version": "1.5.0",
            "_view_name": "HBoxView",
            "box_style": "",
            "children": [
              "IPY_MODEL_d89611809ac6448393efb7f50a65adc3",
              "IPY_MODEL_c3d0806a7921484a895df8ac2ea557ee",
              "IPY_MODEL_300a3f63db2648feab81c2f77399ccea"
            ],
            "layout": "IPY_MODEL_272c9eb5f58d48ada57aa1228351b8f1"
          }
        },
        "d89611809ac6448393efb7f50a65adc3": {
          "model_module": "@jupyter-widgets/controls",
          "model_name": "HTMLModel",
          "model_module_version": "1.5.0",
          "state": {
            "_dom_classes": [],
            "_model_module": "@jupyter-widgets/controls",
            "_model_module_version": "1.5.0",
            "_model_name": "HTMLModel",
            "_view_count": null,
            "_view_module": "@jupyter-widgets/controls",
            "_view_module_version": "1.5.0",
            "_view_name": "HTMLView",
            "description": "",
            "description_tooltip": null,
            "layout": "IPY_MODEL_447efd7720b24ed9be8ad840d6d9c798",
            "placeholder": "​",
            "style": "IPY_MODEL_4fb1807a303b416babaea0c5e258c996",
            "value": "Map: 100%"
          }
        },
        "c3d0806a7921484a895df8ac2ea557ee": {
          "model_module": "@jupyter-widgets/controls",
          "model_name": "FloatProgressModel",
          "model_module_version": "1.5.0",
          "state": {
            "_dom_classes": [],
            "_model_module": "@jupyter-widgets/controls",
            "_model_module_version": "1.5.0",
            "_model_name": "FloatProgressModel",
            "_view_count": null,
            "_view_module": "@jupyter-widgets/controls",
            "_view_module_version": "1.5.0",
            "_view_name": "ProgressView",
            "bar_style": "success",
            "description": "",
            "description_tooltip": null,
            "layout": "IPY_MODEL_2a63ce31639a4b8ca37d08dc29e488e9",
            "max": 6861,
            "min": 0,
            "orientation": "horizontal",
            "style": "IPY_MODEL_4c72a1fcdc874dad9b4d1718078d75e7",
            "value": 6861
          }
        },
        "300a3f63db2648feab81c2f77399ccea": {
          "model_module": "@jupyter-widgets/controls",
          "model_name": "HTMLModel",
          "model_module_version": "1.5.0",
          "state": {
            "_dom_classes": [],
            "_model_module": "@jupyter-widgets/controls",
            "_model_module_version": "1.5.0",
            "_model_name": "HTMLModel",
            "_view_count": null,
            "_view_module": "@jupyter-widgets/controls",
            "_view_module_version": "1.5.0",
            "_view_name": "HTMLView",
            "description": "",
            "description_tooltip": null,
            "layout": "IPY_MODEL_cc5e666217954a18ae084b2a1d6a6131",
            "placeholder": "​",
            "style": "IPY_MODEL_c968ab2d22534ca1aed3fe93afb357e5",
            "value": " 6861/6861 [01:00&lt;00:00, 110.60 examples/s]"
          }
        },
        "272c9eb5f58d48ada57aa1228351b8f1": {
          "model_module": "@jupyter-widgets/base",
          "model_name": "LayoutModel",
          "model_module_version": "1.2.0",
          "state": {
            "_model_module": "@jupyter-widgets/base",
            "_model_module_version": "1.2.0",
            "_model_name": "LayoutModel",
            "_view_count": null,
            "_view_module": "@jupyter-widgets/base",
            "_view_module_version": "1.2.0",
            "_view_name": "LayoutView",
            "align_content": null,
            "align_items": null,
            "align_self": null,
            "border": null,
            "bottom": null,
            "display": null,
            "flex": null,
            "flex_flow": null,
            "grid_area": null,
            "grid_auto_columns": null,
            "grid_auto_flow": null,
            "grid_auto_rows": null,
            "grid_column": null,
            "grid_gap": null,
            "grid_row": null,
            "grid_template_areas": null,
            "grid_template_columns": null,
            "grid_template_rows": null,
            "height": null,
            "justify_content": null,
            "justify_items": null,
            "left": null,
            "margin": null,
            "max_height": null,
            "max_width": null,
            "min_height": null,
            "min_width": null,
            "object_fit": null,
            "object_position": null,
            "order": null,
            "overflow": null,
            "overflow_x": null,
            "overflow_y": null,
            "padding": null,
            "right": null,
            "top": null,
            "visibility": null,
            "width": null
          }
        },
        "447efd7720b24ed9be8ad840d6d9c798": {
          "model_module": "@jupyter-widgets/base",
          "model_name": "LayoutModel",
          "model_module_version": "1.2.0",
          "state": {
            "_model_module": "@jupyter-widgets/base",
            "_model_module_version": "1.2.0",
            "_model_name": "LayoutModel",
            "_view_count": null,
            "_view_module": "@jupyter-widgets/base",
            "_view_module_version": "1.2.0",
            "_view_name": "LayoutView",
            "align_content": null,
            "align_items": null,
            "align_self": null,
            "border": null,
            "bottom": null,
            "display": null,
            "flex": null,
            "flex_flow": null,
            "grid_area": null,
            "grid_auto_columns": null,
            "grid_auto_flow": null,
            "grid_auto_rows": null,
            "grid_column": null,
            "grid_gap": null,
            "grid_row": null,
            "grid_template_areas": null,
            "grid_template_columns": null,
            "grid_template_rows": null,
            "height": null,
            "justify_content": null,
            "justify_items": null,
            "left": null,
            "margin": null,
            "max_height": null,
            "max_width": null,
            "min_height": null,
            "min_width": null,
            "object_fit": null,
            "object_position": null,
            "order": null,
            "overflow": null,
            "overflow_x": null,
            "overflow_y": null,
            "padding": null,
            "right": null,
            "top": null,
            "visibility": null,
            "width": null
          }
        },
        "4fb1807a303b416babaea0c5e258c996": {
          "model_module": "@jupyter-widgets/controls",
          "model_name": "DescriptionStyleModel",
          "model_module_version": "1.5.0",
          "state": {
            "_model_module": "@jupyter-widgets/controls",
            "_model_module_version": "1.5.0",
            "_model_name": "DescriptionStyleModel",
            "_view_count": null,
            "_view_module": "@jupyter-widgets/base",
            "_view_module_version": "1.2.0",
            "_view_name": "StyleView",
            "description_width": ""
          }
        },
        "2a63ce31639a4b8ca37d08dc29e488e9": {
          "model_module": "@jupyter-widgets/base",
          "model_name": "LayoutModel",
          "model_module_version": "1.2.0",
          "state": {
            "_model_module": "@jupyter-widgets/base",
            "_model_module_version": "1.2.0",
            "_model_name": "LayoutModel",
            "_view_count": null,
            "_view_module": "@jupyter-widgets/base",
            "_view_module_version": "1.2.0",
            "_view_name": "LayoutView",
            "align_content": null,
            "align_items": null,
            "align_self": null,
            "border": null,
            "bottom": null,
            "display": null,
            "flex": null,
            "flex_flow": null,
            "grid_area": null,
            "grid_auto_columns": null,
            "grid_auto_flow": null,
            "grid_auto_rows": null,
            "grid_column": null,
            "grid_gap": null,
            "grid_row": null,
            "grid_template_areas": null,
            "grid_template_columns": null,
            "grid_template_rows": null,
            "height": null,
            "justify_content": null,
            "justify_items": null,
            "left": null,
            "margin": null,
            "max_height": null,
            "max_width": null,
            "min_height": null,
            "min_width": null,
            "object_fit": null,
            "object_position": null,
            "order": null,
            "overflow": null,
            "overflow_x": null,
            "overflow_y": null,
            "padding": null,
            "right": null,
            "top": null,
            "visibility": null,
            "width": null
          }
        },
        "4c72a1fcdc874dad9b4d1718078d75e7": {
          "model_module": "@jupyter-widgets/controls",
          "model_name": "ProgressStyleModel",
          "model_module_version": "1.5.0",
          "state": {
            "_model_module": "@jupyter-widgets/controls",
            "_model_module_version": "1.5.0",
            "_model_name": "ProgressStyleModel",
            "_view_count": null,
            "_view_module": "@jupyter-widgets/base",
            "_view_module_version": "1.2.0",
            "_view_name": "StyleView",
            "bar_color": null,
            "description_width": ""
          }
        },
        "cc5e666217954a18ae084b2a1d6a6131": {
          "model_module": "@jupyter-widgets/base",
          "model_name": "LayoutModel",
          "model_module_version": "1.2.0",
          "state": {
            "_model_module": "@jupyter-widgets/base",
            "_model_module_version": "1.2.0",
            "_model_name": "LayoutModel",
            "_view_count": null,
            "_view_module": "@jupyter-widgets/base",
            "_view_module_version": "1.2.0",
            "_view_name": "LayoutView",
            "align_content": null,
            "align_items": null,
            "align_self": null,
            "border": null,
            "bottom": null,
            "display": null,
            "flex": null,
            "flex_flow": null,
            "grid_area": null,
            "grid_auto_columns": null,
            "grid_auto_flow": null,
            "grid_auto_rows": null,
            "grid_column": null,
            "grid_gap": null,
            "grid_row": null,
            "grid_template_areas": null,
            "grid_template_columns": null,
            "grid_template_rows": null,
            "height": null,
            "justify_content": null,
            "justify_items": null,
            "left": null,
            "margin": null,
            "max_height": null,
            "max_width": null,
            "min_height": null,
            "min_width": null,
            "object_fit": null,
            "object_position": null,
            "order": null,
            "overflow": null,
            "overflow_x": null,
            "overflow_y": null,
            "padding": null,
            "right": null,
            "top": null,
            "visibility": null,
            "width": null
          }
        },
        "c968ab2d22534ca1aed3fe93afb357e5": {
          "model_module": "@jupyter-widgets/controls",
          "model_name": "DescriptionStyleModel",
          "model_module_version": "1.5.0",
          "state": {
            "_model_module": "@jupyter-widgets/controls",
            "_model_module_version": "1.5.0",
            "_model_name": "DescriptionStyleModel",
            "_view_count": null,
            "_view_module": "@jupyter-widgets/base",
            "_view_module_version": "1.2.0",
            "_view_name": "StyleView",
            "description_width": ""
          }
        }
      }
    }
  },
  "cells": [
    {
      "cell_type": "markdown",
      "source": [
        "# Fine-Tuning of LLMs with Hugging Face"
      ],
      "metadata": {
        "id": "WVa0caPZlogN"
      }
    },
    {
      "cell_type": "markdown",
      "source": [
        "## Step 1: Installing and importing the libraries for Hugging Face"
      ],
      "metadata": {
        "id": "fT5BjFcflZAh"
      }
    },
    {
      "cell_type": "code",
      "execution_count": null,
      "metadata": {
        "id": "GLXwJqbjtPho"
      },
      "outputs": [],
      "source": [
        "!pip install -q accelerate==0.21.0 peft==0.4.0 bitsandbytes==0.40.2 transformers==4.31.0 trl==0.4.7"
      ]
    },
    {
      "cell_type": "code",
      "source": [
        "!pip install huggingface_hub"
      ],
      "metadata": {
        "id": "eRZm_OAbs3qA",
        "colab": {
          "base_uri": "https://localhost:8080/"
        },
        "outputId": "1307b689-a226-41cc-d51f-3d39d756eac4"
      },
      "execution_count": null,
      "outputs": [
        {
          "output_type": "stream",
          "name": "stdout",
          "text": [
            "Requirement already satisfied: huggingface_hub in /usr/local/lib/python3.10/dist-packages (0.19.4)\n",
            "Requirement already satisfied: filelock in /usr/local/lib/python3.10/dist-packages (from huggingface_hub) (3.13.1)\n",
            "Requirement already satisfied: fsspec>=2023.5.0 in /usr/local/lib/python3.10/dist-packages (from huggingface_hub) (2023.6.0)\n",
            "Requirement already satisfied: requests in /usr/local/lib/python3.10/dist-packages (from huggingface_hub) (2.31.0)\n",
            "Requirement already satisfied: tqdm>=4.42.1 in /usr/local/lib/python3.10/dist-packages (from huggingface_hub) (4.66.1)\n",
            "Requirement already satisfied: pyyaml>=5.1 in /usr/local/lib/python3.10/dist-packages (from huggingface_hub) (6.0.1)\n",
            "Requirement already satisfied: typing-extensions>=3.7.4.3 in /usr/local/lib/python3.10/dist-packages (from huggingface_hub) (4.5.0)\n",
            "Requirement already satisfied: packaging>=20.9 in /usr/local/lib/python3.10/dist-packages (from huggingface_hub) (23.2)\n",
            "Requirement already satisfied: charset-normalizer<4,>=2 in /usr/local/lib/python3.10/dist-packages (from requests->huggingface_hub) (3.3.2)\n",
            "Requirement already satisfied: idna<4,>=2.5 in /usr/local/lib/python3.10/dist-packages (from requests->huggingface_hub) (3.6)\n",
            "Requirement already satisfied: urllib3<3,>=1.21.1 in /usr/local/lib/python3.10/dist-packages (from requests->huggingface_hub) (2.0.7)\n",
            "Requirement already satisfied: certifi>=2017.4.17 in /usr/local/lib/python3.10/dist-packages (from requests->huggingface_hub) (2023.11.17)\n"
          ]
        }
      ]
    },
    {
      "cell_type": "code",
      "source": [
        "import os\n",
        "import torch\n",
        "from trl import SFTTrainer\n",
        "from datasets import load_dataset\n",
        "from peft import LoraConfig, PeftModel\n",
        "from transformers import (AutoModelForCausalLM, AutoTokenizer, BitsAndBytesConfig, HfArgumentParser, TrainingArguments, pipeline, logging)"
      ],
      "metadata": {
        "id": "nAMzy_0FtaUZ"
      },
      "execution_count": null,
      "outputs": []
    },
    {
      "cell_type": "markdown",
      "source": [
        "## Step 2: Setting up links to Hugging Face datasets and models"
      ],
      "metadata": {
        "id": "CMO9Ew1534fE"
      }
    },
    {
      "cell_type": "code",
      "source": [
        "model_identifier = \"aboonaji/llama2finetune-v2\"\n",
        "source_dataset = \"gamino/wiki_medical_terms\"\n",
        "formatted_dataset = \"aboonaji/wiki_medical_terms_llam2_format\""
      ],
      "metadata": {
        "id": "2Vi4I3IR1Cjw"
      },
      "execution_count": null,
      "outputs": []
    },
    {
      "cell_type": "markdown",
      "source": [
        "## Step 3: Setting up all the QLoRA hyperparameters for fine-tuning"
      ],
      "metadata": {
        "id": "OQA3fMY647SE"
      }
    },
    {
      "cell_type": "code",
      "source": [
        "lora_hyper_r = 64\n",
        "lora_hyper_alpha = 16\n",
        "lora_hyper_dropout = 0.1"
      ],
      "metadata": {
        "id": "ND2GwTK17Dyu"
      },
      "execution_count": null,
      "outputs": []
    },
    {
      "cell_type": "markdown",
      "source": [
        "## Step 4: Setting up all the bitsandbytes hyperparameters for fine-tuning"
      ],
      "metadata": {
        "id": "YFfD46YB2ffY"
      }
    },
    {
      "cell_type": "code",
      "source": [
        "enable_4bit = True\n",
        "compute_dtype_bnb = \"float16\"\n",
        "quant_type_bnb = \"nf4\"\n",
        "double_quant_flag = False"
      ],
      "metadata": {
        "id": "OkDBdROgmYw7"
      },
      "execution_count": null,
      "outputs": []
    },
    {
      "cell_type": "markdown",
      "source": [
        "## Step 5: Setting up all the training arguments hyperparameters for fine-tuning"
      ],
      "metadata": {
        "id": "_66BRztm29wJ"
      }
    },
    {
      "cell_type": "code",
      "source": [
        "results_dir = \"./results\"\n",
        "epochs_count = 10\n",
        "enable_fp16 = False\n",
        "enable_bf16 = False\n",
        "train_batch_size = 4\n",
        "eval_batch_size = 4\n",
        "accumulation_steps = 1\n",
        "checkpointing_flag = True\n",
        "grad_norm_limit = 0.3\n",
        "train_learning_rate = 2e-4\n",
        "decay_rate = 0.001\n",
        "optimizer_type = \"paged_adamw_32bit\"\n",
        "scheduler_type = \"cosine\"\n",
        "steps_limit = 100\n",
        "warmup_percentage = 0.03\n",
        "length_grouping = True\n",
        "checkpoint_interval = 0\n",
        "log_interval = 25"
      ],
      "metadata": {
        "id": "C5UJVZlEDPE5"
      },
      "execution_count": null,
      "outputs": []
    },
    {
      "cell_type": "markdown",
      "source": [
        "## Step 6: Setting up all the supervised fine-tuning arguments hyperparameters for fine-tuning"
      ],
      "metadata": {
        "id": "3cmmRIgc3Ree"
      }
    },
    {
      "cell_type": "code",
      "source": [
        "enable_packing = False\n",
        "sequence_length_max = None\n",
        "device_assignment = {\"\": 0}"
      ],
      "metadata": {
        "id": "yjj4vaC_eje2"
      },
      "execution_count": null,
      "outputs": []
    },
    {
      "cell_type": "markdown",
      "source": [
        "## Step 7: Loading the dataset"
      ],
      "metadata": {
        "id": "QEsqc9gasp10"
      }
    },
    {
      "cell_type": "code",
      "source": [
        "training_data = load_dataset(formatted_dataset, split = \"train\")"
      ],
      "metadata": {
        "id": "XkiKtLen-jKy"
      },
      "execution_count": null,
      "outputs": []
    },
    {
      "cell_type": "code",
      "source": [
        "training_data"
      ],
      "metadata": {
        "colab": {
          "base_uri": "https://localhost:8080/"
        },
        "id": "Z5kd6_Ad_Rlh",
        "outputId": "0a16282e-bf57-481a-f72e-34cba07c778f"
      },
      "execution_count": null,
      "outputs": [
        {
          "output_type": "execute_result",
          "data": {
            "text/plain": [
              "Dataset({\n",
              "    features: ['text'],\n",
              "    num_rows: 6861\n",
              "})"
            ]
          },
          "metadata": {},
          "execution_count": 10
        }
      ]
    },
    {
      "cell_type": "markdown",
      "source": [
        "## Step 8: Defining the QLoRA configuration"
      ],
      "metadata": {
        "id": "z0tKj05usvyN"
      }
    },
    {
      "cell_type": "code",
      "source": [
        "dtype_computation = getattr(torch, compute_dtype_bnb)\n",
        "bnb_setup = BitsAndBytesConfig(load_in_4bit = enable_4bit,\n",
        "                               bnb_4bit_quant_type = quant_type_bnb,\n",
        "                               bnb_4bit_use_double_quant = double_quant_flag,\n",
        "                               bnb_4bit_compute_dtype = dtype_computation)"
      ],
      "metadata": {
        "id": "TE7P9j0MDcXB"
      },
      "execution_count": null,
      "outputs": []
    },
    {
      "cell_type": "markdown",
      "source": [
        "## Step 9: Loading the pre-trained LLaMA 2 model"
      ],
      "metadata": {
        "id": "rz3vMSzhs-P7"
      }
    },
    {
      "cell_type": "code",
      "source": [
        "llama_model = AutoModelForCausalLM.from_pretrained(model_identifier, quantization_config = bnb_setup, device_map = device_assignment)\n",
        "llama_model.config.use_case = False\n",
        "llama_model.config.pretraining_tp = 1"
      ],
      "metadata": {
        "colab": {
          "base_uri": "https://localhost:8080/",
          "height": 49,
          "referenced_widgets": [
            "2e97808f4d2249719f4d2181977ac560",
            "b32e3145d442484daa546f1061a0544f",
            "e5803a773855451cab2ac9013202b9ea",
            "05d8eef718044ef0bfba1962c3ffbb15",
            "a84c88c01de042fcae18496c69842e9e",
            "0f71e606a1e74da0b5af7ed322e0cbca",
            "f8a364e6a2a7417395f5cd611970182b",
            "83c37f55ee384c4fb9493defc27ff403",
            "69dd34f2ab4c47278f9f6b555de0ad92",
            "c400c85dafaa47a0bae784143ecd5e1d",
            "1e66ee3c861c41698e531a9dcaa13601"
          ]
        },
        "id": "mS5OW4q2Orp0",
        "outputId": "105a324c-288e-4529-ff42-85c2c56d42f1"
      },
      "execution_count": null,
      "outputs": [
        {
          "output_type": "display_data",
          "data": {
            "text/plain": [
              "Loading checkpoint shards:   0%|          | 0/2 [00:00<?, ?it/s]"
            ],
            "application/vnd.jupyter.widget-view+json": {
              "version_major": 2,
              "version_minor": 0,
              "model_id": "2e97808f4d2249719f4d2181977ac560"
            }
          },
          "metadata": {}
        }
      ]
    },
    {
      "cell_type": "markdown",
      "source": [
        "## Step 10: Loading the pre-trained tokenizer for the LLaMA 2 model"
      ],
      "metadata": {
        "id": "g6aWb1e7tNRS"
      }
    },
    {
      "cell_type": "code",
      "source": [
        "llama_tokenizer = AutoTokenizer.from_pretrained(model_identifier, trust_remote_code = True)\n",
        "llama_tokenizer.pad_token = llama_tokenizer.eos_token\n",
        "llama_tokenizer.padding_side = \"right\""
      ],
      "metadata": {
        "id": "xwOU4phefBFK"
      },
      "execution_count": null,
      "outputs": []
    },
    {
      "cell_type": "markdown",
      "source": [
        "## Step 11: Setting up the configuration for the LoRA fine-tuning method"
      ],
      "metadata": {
        "id": "yxOOwMvStaDN"
      }
    },
    {
      "cell_type": "code",
      "source": [
        "peft_setup = LoraConfig(lora_alpha = lora_hyper_alpha,\n",
        "                        lora_dropout = lora_hyper_dropout,\n",
        "                        r = lora_hyper_r,\n",
        "                        bias = \"none\",\n",
        "                        task_type = \"CAUSAL_LM\")"
      ],
      "metadata": {
        "id": "2hLqPh8zky3s"
      },
      "execution_count": null,
      "outputs": []
    },
    {
      "cell_type": "markdown",
      "source": [
        "## Step 12: Creating a training configuration by setting the training parameters"
      ],
      "metadata": {
        "id": "coUlIR-ytjiF"
      }
    },
    {
      "cell_type": "code",
      "source": [
        "train_args = TrainingArguments(output_dir = results_dir,\n",
        "                               num_train_epochs = epochs_count,\n",
        "                               per_device_train_batch_size = train_batch_size,\n",
        "                               per_device_eval_batch_size = eval_batch_size,\n",
        "                               gradient_accumulation_steps = accumulation_steps,\n",
        "                               learning_rate = train_learning_rate,\n",
        "                               weight_decay = decay_rate,\n",
        "                               optim = optimizer_type,\n",
        "                               save_steps = checkpoint_interval,\n",
        "                               logging_steps = log_interval,\n",
        "                               fp16 = enable_fp16,\n",
        "                               bf16 = enable_bf16,\n",
        "                               max_grad_norm = grad_norm_limit,\n",
        "                               max_steps = steps_limit,\n",
        "                               warmup_ratio = warmup_percentage,\n",
        "                               group_by_length = length_grouping,\n",
        "                               lr_scheduler_type = scheduler_type,\n",
        "                               gradient_checkpointing = checkpointing_flag)"
      ],
      "metadata": {
        "id": "_XAv6G-bshio"
      },
      "execution_count": null,
      "outputs": []
    },
    {
      "cell_type": "markdown",
      "source": [
        "## Step 13: Creating the Supervised Fine-Tuning Trainer"
      ],
      "metadata": {
        "id": "x-5-Thu0tpfu"
      }
    },
    {
      "cell_type": "code",
      "source": [
        "llama_sftt_trainer = SFTTrainer(model = llama_model,\n",
        "                                args = train_args,\n",
        "                                train_dataset = training_data,\n",
        "                                tokenizer = llama_tokenizer,\n",
        "                                peft_config = peft_setup,\n",
        "                                dataset_text_field = \"text\",\n",
        "                                max_seq_length = sequence_length_max,\n",
        "                                packing = enable_packing)"
      ],
      "metadata": {
        "colab": {
          "base_uri": "https://localhost:8080/",
          "height": 138,
          "referenced_widgets": [
            "53d7b01d28634bf49bbb8a5a16277684",
            "d89611809ac6448393efb7f50a65adc3",
            "c3d0806a7921484a895df8ac2ea557ee",
            "300a3f63db2648feab81c2f77399ccea",
            "272c9eb5f58d48ada57aa1228351b8f1",
            "447efd7720b24ed9be8ad840d6d9c798",
            "4fb1807a303b416babaea0c5e258c996",
            "2a63ce31639a4b8ca37d08dc29e488e9",
            "4c72a1fcdc874dad9b4d1718078d75e7",
            "cc5e666217954a18ae084b2a1d6a6131",
            "c968ab2d22534ca1aed3fe93afb357e5"
          ]
        },
        "id": "R-HP6oXEndmC",
        "outputId": "95503524-0e02-45ba-d6eb-9f31079afb00"
      },
      "execution_count": null,
      "outputs": [
        {
          "output_type": "stream",
          "name": "stderr",
          "text": [
            "/usr/local/lib/python3.10/dist-packages/peft/utils/other.py:102: FutureWarning: prepare_model_for_int8_training is deprecated and will be removed in a future version. Use prepare_model_for_kbit_training instead.\n",
            "  warnings.warn(\n",
            "/usr/local/lib/python3.10/dist-packages/trl/trainer/sft_trainer.py:159: UserWarning: You didn't pass a `max_seq_length` argument to the SFTTrainer, this will default to 1024\n",
            "  warnings.warn(\n"
          ]
        },
        {
          "output_type": "display_data",
          "data": {
            "text/plain": [
              "Map:   0%|          | 0/6861 [00:00<?, ? examples/s]"
            ],
            "application/vnd.jupyter.widget-view+json": {
              "version_major": 2,
              "version_minor": 0,
              "model_id": "53d7b01d28634bf49bbb8a5a16277684"
            }
          },
          "metadata": {}
        }
      ]
    },
    {
      "cell_type": "markdown",
      "source": [
        "## Step 14: Training the model"
      ],
      "metadata": {
        "id": "oSF8SHFKt1xL"
      }
    },
    {
      "cell_type": "code",
      "source": [
        "llama_sftt_trainer.train()"
      ],
      "metadata": {
        "colab": {
          "base_uri": "https://localhost:8080/",
          "height": 325
        },
        "id": "qGM5nT5BuBmN",
        "outputId": "f98570cb-68a6-42b4-8316-176cc112fa14"
      },
      "execution_count": null,
      "outputs": [
        {
          "output_type": "stream",
          "name": "stderr",
          "text": [
            "You're using a LlamaTokenizerFast tokenizer. Please note that with a fast tokenizer, using the `__call__` method is faster than using a method to encode the text followed by a call to the `pad` method to get a padded encoding.\n",
            "`use_cache=True` is incompatible with gradient checkpointing. Setting `use_cache=False`...\n",
            "/usr/local/lib/python3.10/dist-packages/torch/utils/checkpoint.py:429: UserWarning: torch.utils.checkpoint: please pass in use_reentrant=True or use_reentrant=False explicitly. The default value of use_reentrant will be updated to be False in the future. To maintain current behavior, pass use_reentrant=True. It is recommended that you use use_reentrant=False. Refer to docs for more details on the differences between the two variants.\n",
            "  warnings.warn(\n"
          ]
        },
        {
          "output_type": "display_data",
          "data": {
            "text/plain": [
              "<IPython.core.display.HTML object>"
            ],
            "text/html": [
              "\n",
              "    <div>\n",
              "      \n",
              "      <progress value='100' max='100' style='width:300px; height:20px; vertical-align: middle;'></progress>\n",
              "      [100/100 17:09, Epoch 0/1]\n",
              "    </div>\n",
              "    <table border=\"1\" class=\"dataframe\">\n",
              "  <thead>\n",
              " <tr style=\"text-align: left;\">\n",
              "      <th>Step</th>\n",
              "      <th>Training Loss</th>\n",
              "    </tr>\n",
              "  </thead>\n",
              "  <tbody>\n",
              "    <tr>\n",
              "      <td>25</td>\n",
              "      <td>1.707700</td>\n",
              "    </tr>\n",
              "    <tr>\n",
              "      <td>50</td>\n",
              "      <td>0.849500</td>\n",
              "    </tr>\n",
              "    <tr>\n",
              "      <td>75</td>\n",
              "      <td>1.392800</td>\n",
              "    </tr>\n",
              "    <tr>\n",
              "      <td>100</td>\n",
              "      <td>0.759700</td>\n",
              "    </tr>\n",
              "  </tbody>\n",
              "</table><p>"
            ]
          },
          "metadata": {}
        },
        {
          "output_type": "execute_result",
          "data": {
            "text/plain": [
              "TrainOutput(global_step=100, training_loss=1.1774291801452637, metrics={'train_runtime': 1045.3591, 'train_samples_per_second': 0.383, 'train_steps_per_second': 0.096, 'total_flos': 5978369907425280.0, 'train_loss': 1.1774291801452637, 'epoch': 0.06})"
            ]
          },
          "metadata": {},
          "execution_count": 17
        }
      ]
    },
    {
      "cell_type": "markdown",
      "source": [
        "## Step 15: Chatting with the model"
      ],
      "metadata": {
        "id": "XMPw6WU6vbjP"
      }
    },
    {
      "cell_type": "code",
      "source": [
        "user_prompt = \"Please tell me about Bursitis\"\n",
        "text_generation_pipe = pipeline(task = \"text-generation\", model = llama_model, tokenizer = llama_tokenizer, max_length = 300)\n",
        "generation_result = text_generation_pipe(f\"<s>[INST] {user_prompt} [/INST]\")\n",
        "print(generation_result[0]['generated_text'])"
      ],
      "metadata": {
        "colab": {
          "base_uri": "https://localhost:8080/"
        },
        "id": "f3NQWGZP60Gt",
        "outputId": "5a3787dc-1a8f-4939-b717-74b7b9b8c75e"
      },
      "execution_count": null,
      "outputs": [
        {
          "output_type": "stream",
          "name": "stdout",
          "text": [
            "<s>[INST] Please tell me about Bursitis [/INST]  Bursitis is a condition where the bursae, small fluid-filled sacs that cushion and reduce friction between tendons, muscles, and bones, become inflamed. everybody has bursae, but they are more common in the joints. Bursitis is a common condition that can affect any joint in the body. It is usually caused by repetitive motion or injury to the affected joint.\n",
            "\n",
            "Bursitis can be caused by a number of factors, including:\n",
            "\n",
            "* Overuse or repetitive motion of a joint, such as from repetitive jumping or running.\n",
            "* Injury to a joint, such as from a fall or a blow.\n",
            "* Infection of the bursa, which can occur from bacteria or viruses.\n",
            "* Rheumatoid arthritis or other autoimmune disorders.\n",
            "* Crystal-induced arthritis, which is caused by the buildup of crystals in the joint.\n",
            "* Gout, which is caused by the buildup of uric acid in the joint.\n",
            "\n",
            "Symptoms of bursitis may include:\n",
            "\n",
            "* Pain or tenderness in the affected joint.\n",
            "* Swelling or redness in the affected joint.\n",
            "* Limited mobility or range of motion in the affected\n"
          ]
        }
      ]
    }
  ]
}